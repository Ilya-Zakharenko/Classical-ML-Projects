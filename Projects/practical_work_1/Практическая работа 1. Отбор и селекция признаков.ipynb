{
 "cells": [
  {
   "attachments": {},
   "cell_type": "markdown",
   "metadata": {},
   "source": [
    "# <center> **Практическая работа 1. Отбор и селекция признаков**"
   ]
  },
  {
   "attachments": {},
   "cell_type": "markdown",
   "metadata": {},
   "source": [
    "### Условие задачи:\n",
    "\n",
    "Необходимо обучить модель линейной регрессии на найденных двумя способами трёх важных признаках и сравнить полученные результаты."
   ]
  },
  {
   "attachments": {},
   "cell_type": "markdown",
   "metadata": {},
   "source": [
    "### Импортируем библиотеки"
   ]
  },
  {
   "cell_type": "code",
   "execution_count": 1,
   "metadata": {},
   "outputs": [],
   "source": [
    "# Для работы с датасетом\n",
    "import pandas as pd\n",
    "import numpy as np\n",
    "\n",
    "# Для работы с признаками и построения моделей\n",
    "from sklearn.linear_model import LinearRegression \n",
    "from sklearn.linear_model import LogisticRegression\n",
    "from sklearn.preprocessing import LabelBinarizer \n",
    "from sklearn.preprocessing import OneHotEncoder\n",
    "from sklearn.neighbors import LocalOutlierFactor\n",
    "from sklearn.covariance import EllipticEnvelope\n",
    "from sklearn.ensemble import IsolationForest\n",
    "from sklearn.preprocessing import StandardScaler\n",
    "from sklearn.preprocessing import QuantileTransformer\n",
    "from sklearn.preprocessing import PowerTransformer\n",
    "from sklearn.feature_selection import RFE\n",
    "from sklearn.feature_selection import SelectKBest, f_regression\n",
    "from sklearn.metrics import r2_score\n",
    "from sklearn.model_selection import train_test_split\n",
    "from sklearn.metrics import mean_absolute_error\n",
    "\n",
    "# Для визуализации данных\n",
    "import matplotlib.pyplot as plt\n",
    "import seaborn as sns"
   ]
  },
  {
   "attachments": {},
   "cell_type": "markdown",
   "metadata": {},
   "source": [
    "### Загружаем данные"
   ]
  },
  {
   "cell_type": "code",
   "execution_count": 115,
   "metadata": {},
   "outputs": [],
   "source": [
    "# Загружаем DataFrame\n",
    "ford_price_data = pd.read_excel('Прочие файлы/data_ford_price.xlsx')\n",
    "\n",
    "# Создаём копию данных\n",
    "ford_price_df = ford_price_data.copy()"
   ]
  },
  {
   "cell_type": "code",
   "execution_count": null,
   "metadata": {},
   "outputs": [],
   "source": [
    "# Выводим первые пять строк\n",
    "ford_price_df.head()"
   ]
  },
  {
   "attachments": {},
   "cell_type": "markdown",
   "metadata": {},
   "source": [
    "## <center> Предобработка данных"
   ]
  },
  {
   "attachments": {},
   "cell_type": "markdown",
   "metadata": {},
   "source": [
    "### Обработка пропусков"
   ]
  },
  {
   "attachments": {},
   "cell_type": "markdown",
   "metadata": {},
   "source": [
    "Так как необходимо предсказать цену автомобиля. Для обучения модели выделим целевой столбец:"
   ]
  },
  {
   "cell_type": "code",
   "execution_count": 116,
   "metadata": {},
   "outputs": [],
   "source": [
    "X = ford_price_df.drop(columns = 'price')\n",
    "y = ford_price_df['price']"
   ]
  },
  {
   "attachments": {},
   "cell_type": "markdown",
   "metadata": {},
   "source": [
    "Разделим выборку на тренировочную и тестовую в соотношении 80/20:"
   ]
  },
  {
   "cell_type": "code",
   "execution_count": 117,
   "metadata": {},
   "outputs": [],
   "source": [
    "X_train, X_test, y_train, y_test = train_test_split(X, y, test_size = 0.2, random_state = 30)"
   ]
  },
  {
   "attachments": {},
   "cell_type": "markdown",
   "metadata": {},
   "source": [
    "### Обработка пропусков с помощью ML"
   ]
  },
  {
   "cell_type": "code",
   "execution_count": null,
   "metadata": {},
   "outputs": [],
   "source": [
    "# Предскажем пропущенные значения в признаке 'weather' с помощью ML\n",
    "data = X.copy()\n",
    " \n",
    "test_data = data[data['weather'].isnull()]\n",
    "data.dropna(inplace=True)\n",
    " \n",
    "y_train = data['weather']\n",
    "X_train = data.drop(['size','weather','drive'], axis=1)\n",
    "X_test = test_data.drop(['size','weather','drive'], axis=1)\n",
    " \n",
    "one_hot_encoder = OneHotEncoder()\n",
    "categorial_cols = ['cylinders', 'title_status', 'transmission']\n",
    " \n",
    "X_train_onehot = one_hot_encoder.fit_transform(X_train[categorial_cols]).toarray()\n",
    "X_test_onehot = one_hot_encoder.transform(X_test[categorial_cols]).toarray()\n",
    " \n",
    "columns = one_hot_encoder.get_feature_names_out(categorial_cols)\n",
    "X_train_onehot_df = pd.DataFrame(X_train_onehot, columns=columns)\n",
    "X_test_onehot_df = pd.DataFrame(X_test_onehot, columns=columns)\n",
    " \n",
    "X_train = X_train.reset_index().drop(['index'], axis = 1)\n",
    "X_test = X_test.reset_index().drop(['index'], axis = 1)\n",
    "y_train = y_train.reset_index().drop(['index'], axis = 1)\n",
    " \n",
    "X_train_new = pd.concat([X_train, X_train_onehot_df], axis=1)\n",
    "X_test_new = pd.concat([X_test, X_test_onehot_df], axis=1)\n",
    " \n",
    "X_train_new = X_train_new.drop(columns=categorial_cols)\n",
    "X_test_new = X_test_new.drop(columns=categorial_cols)\n",
    " \n",
    " \n",
    "model = LinearRegression()\n",
    "model.fit(X_train_new, y_train)\n",
    " \n",
    "y_pred = model.predict(X_test_new)\n",
    "\n",
    "# Вставим найденную замену на место пропусков в столбце weather\n",
    "for i, ni in enumerate(test_data.index[:len(X)]):\n",
    "    X['weather'].loc[ni] = y_pred[i]"
   ]
  },
  {
   "cell_type": "code",
   "execution_count": null,
   "metadata": {},
   "outputs": [],
   "source": [
    "# Предскажем пропущенные значения в признаке 'size' с помощью ML\n",
    "data = X.copy()\n",
    " \n",
    "test_data = data[data['size'].isnull()]\n",
    "data.dropna(inplace=True)\n",
    " \n",
    "y_train = data['size']\n",
    "X_train = data.drop(['size','drive'], axis=1)\n",
    "X_test = test_data.drop(['size', 'drive'], axis=1)\n",
    " \n",
    "one_hot_encoder = OneHotEncoder()\n",
    "categorial_cols = ['cylinders', 'title_status', 'transmission']\n",
    " \n",
    "X_train_onehot = one_hot_encoder.fit_transform(X_train[categorial_cols]).toarray()\n",
    "X_test_onehot = one_hot_encoder.transform(X_test[categorial_cols]).toarray()\n",
    " \n",
    "columns = one_hot_encoder.get_feature_names_out(categorial_cols)\n",
    "X_train_onehot_df = pd.DataFrame(X_train_onehot, columns=columns)\n",
    "X_test_onehot_df = pd.DataFrame(X_test_onehot, columns=columns)\n",
    " \n",
    "X_train = X_train.reset_index().drop(['index'], axis = 1)\n",
    "X_test = X_test.reset_index().drop(['index'], axis = 1)\n",
    "y_train = y_train.reset_index().drop(['index'], axis = 1)\n",
    " \n",
    "X_train_new = pd.concat([X_train, X_train_onehot_df], axis=1)\n",
    "X_test_new = pd.concat([X_test, X_test_onehot_df], axis=1)\n",
    " \n",
    "X_train_new = X_train_new.drop(columns=categorial_cols)\n",
    "X_test_new = X_test_new.drop(columns=categorial_cols)\n",
    " \n",
    "# Для заполения пропусков в признаке 'size' понадобиться классификатор, так как он является категориальным \n",
    "model = LogisticRegression()\n",
    "model.fit(X_train_new, y_train)\n",
    " \n",
    "y_pred = model.predict(X_test_new)\n",
    "\n",
    "# Вставим найденную замену на место пропусков в столбце size\n",
    "for i, ni in enumerate(test_data.index[:len(X)]):\n",
    "    X['size'].loc[ni] = y_pred[i]"
   ]
  },
  {
   "cell_type": "code",
   "execution_count": null,
   "metadata": {},
   "outputs": [],
   "source": [
    "# Предскажем пропущенные значения в признаке 'drive' с помощью ML\n",
    "data = X.copy()\n",
    " \n",
    "test_data = data[data['drive'].isnull()]\n",
    "data.dropna(inplace=True)\n",
    " \n",
    "y_train = data['drive']\n",
    "X_train = data.drop(['size','drive'], axis=1)\n",
    "X_test = test_data.drop(['size', 'drive'], axis=1)\n",
    " \n",
    "one_hot_encoder = OneHotEncoder()\n",
    "categorial_cols = ['cylinders', 'title_status', 'transmission']\n",
    " \n",
    "X_train_onehot = one_hot_encoder.fit_transform(X_train[categorial_cols]).toarray()\n",
    "X_test_onehot = one_hot_encoder.transform(X_test[categorial_cols]).toarray()\n",
    " \n",
    "columns = one_hot_encoder.get_feature_names_out(categorial_cols)\n",
    "X_train_onehot_df = pd.DataFrame(X_train_onehot, columns=columns)\n",
    "X_test_onehot_df = pd.DataFrame(X_test_onehot, columns=columns)\n",
    " \n",
    "X_train = X_train.reset_index().drop(['index'], axis = 1)\n",
    "X_test = X_test.reset_index().drop(['index'], axis = 1)\n",
    "y_train = y_train.reset_index().drop(['index'], axis = 1)\n",
    " \n",
    "X_train_new = pd.concat([X_train, X_train_onehot_df], axis=1)\n",
    "X_test_new = pd.concat([X_test, X_test_onehot_df], axis=1)\n",
    " \n",
    "X_train_new = X_train_new.drop(columns=categorial_cols)\n",
    "X_test_new = X_test_new.drop(columns=categorial_cols)\n",
    " \n",
    "# Для заполения пропусков в признаке 'drive' понадобиться классификатор, так как он является категориальным \n",
    "model = LogisticRegression()\n",
    "model.fit(X_train_new, y_train)\n",
    " \n",
    "y_pred = model.predict(X_test_new)\n",
    "\n",
    "# Вставим найденную замену на место пропусков в столбце size\n",
    "for i, ni in enumerate(test_data.index[:len(X)]):\n",
    "    X['drive'].loc[ni] = y_pred[i]"
   ]
  },
  {
   "attachments": {},
   "cell_type": "markdown",
   "metadata": {},
   "source": [
    "### Кодирование признаков"
   ]
  },
  {
   "attachments": {},
   "cell_type": "markdown",
   "metadata": {},
   "source": [
    "Создаём список номинальных признаков"
   ]
  },
  {
   "cell_type": "code",
   "execution_count": null,
   "metadata": {},
   "outputs": [],
   "source": [
    "columns_to_change = ['cylinders', 'title_status', 'transmission', 'drive', 'size']\n",
    "\n",
    "for column in columns_to_change:\n",
    "    print('Число уникальных значений признака {}: '.format(column), X[column].nunique())"
   ]
  },
  {
   "cell_type": "code",
   "execution_count": 122,
   "metadata": {},
   "outputs": [],
   "source": [
    "# Создаём список со столбцами для кодировки\n",
    "columns_to_change = ['cylinders', 'title_status', 'transmission', 'drive', 'size']\n",
    "\n",
    "# Создаём экземпляр класса OneHotEncoder()\n",
    "encoder = OneHotEncoder()\n",
    "\n",
    "# 'учим' и сразу применяем преобразование к выборке, результат переводим в массив\n",
    "data_encoder = encoder.fit_transform(X[columns_to_change]).toarray()\n",
    "\n",
    "# Запишем полученные названия новых колонок в отдельную переменную\n",
    "column_names = encoder.get_feature_names_out(columns_to_change)\n",
    "\n",
    "# Преобразовываем полученный массив закодированных данных в формат DataFrame\n",
    "data_encoder = pd.DataFrame(data=data_encoder, index=X.index, columns=column_names)\n",
    "\n",
    "# Объединяем оба датасета\n",
    "X = pd.concat([X, data_encoder], axis=1)\n",
    "\n",
    "# Удаляем закодированные столбцы columns_to_change из полученной таблицы\n",
    "X = X.drop(columns = columns_to_change)"
   ]
  },
  {
   "attachments": {},
   "cell_type": "markdown",
   "metadata": {},
   "source": [
    "### Работа с выбросами"
   ]
  },
  {
   "cell_type": "code",
   "execution_count": null,
   "metadata": {},
   "outputs": [],
   "source": [
    "# Ищем выбросы в обучающей выборке\n",
    "iso = IsolationForest(contamination = 0.1)\n",
    "y_predicted = iso.fit_predict(X)\n",
    " \n",
    "# Выберем все строки, которые не являются выбросами\n",
    "mask = y_predicted != -1\n",
    "X = X[mask]"
   ]
  },
  {
   "cell_type": "code",
   "execution_count": 124,
   "metadata": {},
   "outputs": [],
   "source": [
    "# Удаляем ненужные строки в векторе правильных ответов\n",
    "y = y.iloc[X.index]"
   ]
  },
  {
   "attachments": {},
   "cell_type": "markdown",
   "metadata": {},
   "source": [
    "### Масштабирование признаков"
   ]
  },
  {
   "cell_type": "code",
   "execution_count": 125,
   "metadata": {},
   "outputs": [],
   "source": [
    "# Инициализируем стандартизатор StandardScaler()\n",
    "scaler = StandardScaler()\n",
    "\n",
    "col_names = X.columns\n",
    "x = X[col_names]\n",
    "X[col_names] = scaler.fit_transform(x.values)"
   ]
  },
  {
   "attachments": {},
   "cell_type": "markdown",
   "metadata": {},
   "source": [
    "### Отбор признаков"
   ]
  },
  {
   "attachments": {},
   "cell_type": "markdown",
   "metadata": {},
   "source": [
    "Разделим выборку на тренировочную и тестовую в соотношении 80/20:"
   ]
  },
  {
   "cell_type": "code",
   "execution_count": 126,
   "metadata": {},
   "outputs": [],
   "source": [
    "X_train, X_test, y_train, y_test = train_test_split(X, y, test_size = 0.2, random_state = 40)"
   ]
  },
  {
   "attachments": {},
   "cell_type": "markdown",
   "metadata": {},
   "source": [
    "Построим тепловую карту корреляции признаков"
   ]
  },
  {
   "cell_type": "code",
   "execution_count": null,
   "metadata": {},
   "outputs": [],
   "source": [
    "plt.rcParams['figure.figsize'] = (15, 15)\n",
    "sns.heatmap(X_train.corr(), annot=True, fmt='.1f');"
   ]
  },
  {
   "attachments": {},
   "cell_type": "markdown",
   "metadata": {},
   "source": [
    "Создадим 2 копии матрицы наблюдения X "
   ]
  },
  {
   "cell_type": "code",
   "execution_count": 128,
   "metadata": {},
   "outputs": [],
   "source": [
    "X_1 = X.copy()\n",
    "X_2 = X.copy()"
   ]
  },
  {
   "attachments": {},
   "cell_type": "markdown",
   "metadata": {},
   "source": [
    "**МЕТОД РЕКУРСИВНОГО ИСКЛЮЧЕНИЯ ПРИЗНАКОВ**"
   ]
  },
  {
   "cell_type": "code",
   "execution_count": 129,
   "metadata": {},
   "outputs": [],
   "source": [
    "X_train, X_test, y_train, y_test = train_test_split(X_1, y, test_size=0.3, random_state=40)"
   ]
  },
  {
   "cell_type": "code",
   "execution_count": null,
   "metadata": {},
   "outputs": [],
   "source": [
    "estimator = LinearRegression()\n",
    "selector = RFE(estimator, n_features_to_select = 3, step = 1)\n",
    "selector = selector.fit(X_train, y_train)\n",
    "selector.get_feature_names_out()"
   ]
  },
  {
   "cell_type": "code",
   "execution_count": null,
   "metadata": {},
   "outputs": [],
   "source": [
    "# Выводим названия признаков\n",
    "X_train.columns"
   ]
  },
  {
   "cell_type": "code",
   "execution_count": null,
   "metadata": {},
   "outputs": [],
   "source": [
    "# Ранжировка признаков\n",
    "selector.ranking_"
   ]
  },
  {
   "cell_type": "code",
   "execution_count": 132,
   "metadata": {},
   "outputs": [],
   "source": [
    "# Удаляем наименее важные признаки\n",
    "X_1 = X_1.drop(columns=['year', 'condition', 'odometer', 'lat', 'long', 'weather',\n",
    "       'cylinders_3', 'cylinders_4', 'cylinders_5', 'cylinders_6',\n",
    "       'cylinders_8', 'cylinders_10', 'title_status_clean',\n",
    "       'title_status_lien', 'title_status_missing', 'title_status_rebuilt',\n",
    "       'title_status_salvage', 'transmission_automatic', 'transmission_manual',\n",
    "       'transmission_other', 'size_compact', 'size_full-size', 'size_mid-size', 'size_sub-compact'], axis=1)"
   ]
  },
  {
   "cell_type": "code",
   "execution_count": 135,
   "metadata": {},
   "outputs": [],
   "source": [
    "# Делим выборку\n",
    "X_train, X_test, y_train, y_test = train_test_split(X_1, y, test_size=0.3, random_state=40)"
   ]
  },
  {
   "cell_type": "code",
   "execution_count": null,
   "metadata": {},
   "outputs": [],
   "source": [
    "# Обучаем модель линейной регрессии\n",
    "model = LinearRegression()\n",
    "model.fit(X_train,  y_train)\n",
    "y_predicted = model.predict(X_test)\n",
    "\n",
    "mae = mean_absolute_error(y_test, y_predicted)\n",
    "print('MAE: %.3f' % mae)"
   ]
  },
  {
   "attachments": {},
   "cell_type": "markdown",
   "metadata": {},
   "source": [
    "**МЕТОДЫ ВЫБОРА ПРИЗНАКОВ НА ОСНОВЕ ФИЛЬТРОВ**"
   ]
  },
  {
   "cell_type": "code",
   "execution_count": 137,
   "metadata": {},
   "outputs": [],
   "source": [
    "X_train, X_test, y_train, y_test = train_test_split(X_2, y, test_size=0.3, random_state=40)"
   ]
  },
  {
   "cell_type": "code",
   "execution_count": null,
   "metadata": {},
   "outputs": [],
   "source": [
    "selector = SelectKBest(f_regression, k=3)\n",
    "selector.fit(X_train, y_train)\n",
    " \n",
    "selector.get_feature_names_out()"
   ]
  },
  {
   "cell_type": "code",
   "execution_count": null,
   "metadata": {},
   "outputs": [],
   "source": [
    "# Выводим названия признаков\n",
    "X_train.columns"
   ]
  },
  {
   "cell_type": "code",
   "execution_count": 140,
   "metadata": {},
   "outputs": [],
   "source": [
    "# Удаляем наименее важные признаки\n",
    "X_2 = X_2.drop(columns=['lat', 'long', 'weather',\n",
    "       'cylinders_3', 'cylinders_4', 'cylinders_5', 'cylinders_6',\n",
    "       'cylinders_8', 'cylinders_10', 'title_status_clean',\n",
    "       'title_status_lien', 'title_status_missing', 'title_status_rebuilt',\n",
    "       'title_status_salvage', 'transmission_automatic', 'transmission_manual',\n",
    "       'transmission_other', 'drive_4wd', 'drive_fwd', 'drive_rwd',\n",
    "       'size_compact', 'size_full-size', 'size_mid-size', 'size_sub-compact'], axis=1)"
   ]
  },
  {
   "cell_type": "code",
   "execution_count": 141,
   "metadata": {},
   "outputs": [],
   "source": [
    "# Делим выборку\n",
    "X_train, X_test, y_train, y_test = train_test_split(X_2, y, test_size=0.3, random_state=40)"
   ]
  },
  {
   "cell_type": "code",
   "execution_count": null,
   "metadata": {},
   "outputs": [],
   "source": [
    "# Обучаем модель линейной регрессии\n",
    "model = LinearRegression()\n",
    "model.fit(X_train, y_train)\n",
    "y_predicted = model.predict(X_test)\n",
    "\n",
    "mae = mean_absolute_error(y_test, y_predicted)\n",
    "print('MAE: %.3f' % mae)"
   ]
  },
  {
   "attachments": {},
   "cell_type": "markdown",
   "metadata": {},
   "source": [
    "## <center> Вывод"
   ]
  },
  {
   "attachments": {},
   "cell_type": "markdown",
   "metadata": {},
   "source": [
    "В ходе предобработки данных и выделения 3-х наиболее значимых признаков методами *RFE* и *SelectKBest* и обучения модели линейной регрессии на каждом из этих столбцов были получены следующие показатели: \n",
    "\n",
    "- метод *RFE* наиболее важными выявил признаки ['drive_4wd', 'drive_fwd', 'drive_rwd'], показатель *MAE* составил *MAE: 8356.863*; \n",
    "- метод *SelectKBest* наиболее важными выявил признаки ['year', 'condition', 'odometer'], показатель *MAE* составил *MAE: 4617.003*.\n",
    "\n",
    "По данным показателям можно сделать вывод, что наилучшее качество модели было достигнуто с помощью призннаков, выбраннх методом *SelectKBest*: показатель *MAE* оказался практически вдвое ниже чем у модели, обученной на отобранных признаках методом *RFE*."
   ]
  }
 ],
 "metadata": {
  "kernelspec": {
   "display_name": "base",
   "language": "python",
   "name": "python3"
  },
  "language_info": {
   "codemirror_mode": {
    "name": "ipython",
    "version": 3
   },
   "file_extension": ".py",
   "mimetype": "text/x-python",
   "name": "python",
   "nbconvert_exporter": "python",
   "pygments_lexer": "ipython3",
   "version": "3.9.7"
  },
  "orig_nbformat": 4
 },
 "nbformat": 4,
 "nbformat_minor": 2
}
